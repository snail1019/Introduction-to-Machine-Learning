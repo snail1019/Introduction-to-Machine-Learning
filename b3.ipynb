{
 "cells": [
  {
   "cell_type": "code",
   "execution_count": 3,
   "metadata": {},
   "outputs": [
    {
     "name": "stdout",
     "output_type": "stream",
     "text": [
      "Probability of e5 : [[0.27079929 0.72920071]]\n",
      "Predicting class of e5 : Y\n"
     ]
    }
   ],
   "source": [
    "#Câu1\n",
    "import math\n",
    "from sklearn.naive_bayes import MultinomialNB\n",
    "import numpy as np\n",
    "e1 = [2, 1, 2, 2, 2, 2] #??\n",
    "e2 = [2, 2, 2, 1, 2, 2]\n",
    "e3 = [2, 2, 2, 2, 2, 2]\n",
    "e4 = [0, 0, 1, 0, 2, 1]\n",
    "train_data = np.array([e1, e2, e3, e4]) #??\n",
    "ket_qua = np.array(['Y', 'Y', 'Y', 'N']) #??\n",
    "e5 = np.array([[1, 1, 2, 1, 2, 1]]) #??\n",
    "ml = MultinomialNB(alpha=1)\n",
    "ml.fit(train_data, ket_qua) #??\n",
    "print('Probability of e5 :', ml.predict_proba(e5)) #??\n",
    "print('Predicting class of e5 :', str(ml.predict(e5)[0]))"
   ]
  },
  {
   "cell_type": "code",
   "execution_count": 2,
   "metadata": {},
   "outputs": [
    {
     "name": "stdout",
     "output_type": "stream",
     "text": [
      "P(A|B) = 0.339%\n"
     ]
    }
   ],
   "source": [
    "#Câu2\n",
    "# calculate P(A|B) given P(A), P(B|A), P(B|not A)\n",
    "def bayes_theorem(p_a, p_b_given_a, p_b_given_not_a):\n",
    "# calculate P(not A)\n",
    "    not_a = 1 - p_a\n",
    "# calculate P(B)\n",
    "    p_b = p_b_given_a * p_a + p_b_given_not_a * not_a\n",
    "# calculate P(A|B)\n",
    "    p_a_given_b = (p_b_given_a * p_a) / p_b\n",
    "    return p_a_given_b\n",
    "# P(A)\n",
    "p_a = 0.0002\n",
    "# P(B|A)\n",
    "p_b_given_a = 0.85\n",
    "# P(B|not A)\n",
    "p_b_given_not_a = 0.05\n",
    "# calculate P(A|B)\n",
    "result = bayes_theorem(p_a, p_b_given_a, p_b_given_not_a)\n",
    "# summarize\n",
    "print('P(A|B) = %.3f%%' % (result * 100))\n",
    "# P(A|B) = 0.339%"
   ]
  },
  {
   "cell_type": "code",
   "execution_count": 1,
   "metadata": {},
   "outputs": [
    {
     "data": {
      "image/png": "[encoded data removed]",
      "text/plain": [
       "<Figure size 640x480 with 1 Axes>"
      ]
     },
     "metadata": {},
     "output_type": "display_data"
    },
    {
     "name": "stdout",
     "output_type": "stream",
     "text": [
      "-1 0\n",
      "0 1.0\n",
      "1 1.0\n",
      "2 1.0\n",
      "3 1.0\n",
      "4 1.0\n",
      "5 1.0\n",
      "6 0.6\n",
      "7 0.4375\n",
      "8 0.25\n",
      "9 0.15\n",
      "10 0.14285714285714285\n",
      "11 0.11764705882352941\n",
      "12 0\n"
     ]
    }
   ],
   "source": [
    "#Câu 3\n",
    "import math\n",
    "in_time = [(0, 22), (1, 19), (2, 17), (3, 18),(4, 16), (5, 15), (6, 9), (7, 7),(8, 4), (9, 3), (10, 3), (11, 2)]\n",
    "too_late = [(6, 6), (7, 9), (8, 12), (9, 17),(10, 18), (11, 15), (12,16), (13, 7),(14, 8), (15, 5)]\n",
    "import matplotlib.pyplot as plt\n",
    "X, Y = zip(*in_time)\n",
    "X2, Y2 = zip(*too_late)\n",
    "bar_width = 0.9\n",
    "plt.bar(X, Y, bar_width, color=\"blue\", alpha=0.75, label=\"in time\")\n",
    "bar_width = 0.8\n",
    "plt.bar(X2, Y2, bar_width, color=\"red\", alpha=0.75, label=\"too late\")\n",
    "plt.legend(loc='upper right')\n",
    "plt.show()\n",
    "in_time_dict = dict(in_time)\n",
    "too_late_dict = dict(too_late)\n",
    "def catch_the_train(min):\n",
    "    s = in_time_dict.get(min, 0)\n",
    "    if s == 0:\n",
    "        return 0\n",
    "    else:\n",
    "        m = too_late_dict.get(min, 0)\n",
    "        return s / (s + m)\n",
    "for minutes in range(-1, 13):\n",
    "    print(minutes, catch_the_train(minutes))\n"
   ]
  },
  {
   "cell_type": "code",
   "execution_count": 14,
   "metadata": {},
   "outputs": [
    {
     "name": "stdout",
     "output_type": "stream",
     "text": [
      "female:\n",
      "['Stephanie', 'Cynthia', 'Katherine', 'Elizabeth', 'Carol', 'Christina', 'Beverly', 'Sharon', 'Denise', 'Rebecca']\n",
      "[149 174 183 138 145 161 179 162 148 196]\n",
      "male:\n",
      "['Randy', 'Jessie', 'David', 'Stephen', 'Jerry', 'Billy', 'Earl', 'Todd', 'Martin', 'Kenneth']\n",
      "[184 175 187 192 204 180 184 174 177 200]\n",
      "male {155: 1, 160: 5, 165: 4, 170: 6, 175: 7, 180: 5, 185: 8, 190: 8, 195: 2, 200: 3}\n",
      "female {130: 1, 135: 1, 140: 0, 145: 3, 150: 5, 155: 7, 160: 8, 165: 11, 170: 7, 175: 2, 180: 4, 185: 0}\n"
     ]
    },
    {
     "data": {
      "image/png": "[encoded data removed]",
      "text/plain": [
       "<Figure size 640x480 with 1 Axes>"
      ]
     },
     "metadata": {},
     "output_type": "display_data"
    },
    {
     "name": "stdout",
     "output_type": "stream",
     "text": [
      "130 [(0.0, 'male'), (1.0, 'female')]\n",
      "135 [(0.0, 'male'), (1.0, 'female')]\n",
      "140 [(0.5, 'male'), (0.5, 'female')]\n",
      "145 [(0.0, 'male'), (1.0, 'female')]\n",
      "150 [(0.0, 'male'), (1.0, 'female')]\n",
      "155 [(0.125, 'male'), (0.875, 'female')]\n",
      "160 [(0.3846153846153847, 'male'), (0.6153846153846154, 'female')]\n",
      "165 [(0.26666666666666666, 'male'), (0.7333333333333333, 'female')]\n",
      "170 [(0.4615384615384616, 'male'), (0.5384615384615385, 'female')]\n",
      "175 [(0.7777777777777778, 'male'), (0.22222222222222224, 'female')]\n",
      "180 [(0.5555555555555556, 'male'), (0.4444444444444445, 'female')]\n",
      "185 [(1.0, 'male'), (0.0, 'female')]\n",
      "190 [(1.0, 'male'), (0.0, 'female')]\n",
      "195 [(1.0, 'male'), (0.0, 'female')]\n",
      "200 [(1.0, 'male'), (0.0, 'female')]\n",
      "205 [(0.5, 'male'), (0.5, 'female')]\n",
      "210 [(0.5, 'male'), (0.5, 'female')]\n",
      "215 [(0.5, 'male'), (0.5, 'female')]\n"
     ]
    }
   ],
   "source": [
    "#Câu 4\n",
    "import numpy as np\n",
    "\n",
    "# Load data\n",
    "genders = [\"male\", \"female\"]\n",
    "persons = []\n",
    "with open(\"D:\\\\Năm 3\\\\242\\\\Nhập môn học máy\\\\THỰC HÀNH\\\\TH3_2274802010480_TranKhanhLinh\\\\chieucao-cannang.txt\") as fh:\n",
    "    for line in fh:\n",
    "        persons.append(line.strip().split())\n",
    "\n",
    "# Extract data\n",
    "firstnames = {}\n",
    "heights = {}\n",
    "for gender in genders:\n",
    "    firstnames[gender] = [x[0] for x in persons if x[4] == gender]\n",
    "    heights[gender] = [x[2] for x in persons if x[4] == gender]\n",
    "    heights[gender] = np.array(heights[gender], np.int64)\n",
    "\n",
    "# Print data\n",
    "for gender in (\"female\", \"male\"):\n",
    "    print(gender + \":\")\n",
    "    print(firstnames[gender][:10])\n",
    "    print(heights[gender][:10])\n",
    "\n",
    "import numpy as np\n",
    "from collections import Counter\n",
    "import matplotlib.pyplot as plt\n",
    "\n",
    "# Định nghĩa lớp Feature\n",
    "class Feature:\n",
    "    def __init__(self, data, name=None, bin_width=None):\n",
    "        self.name = name\n",
    "        self.bin_width = bin_width\n",
    "        if bin_width:\n",
    "            self.min, self.max = min(data), max(data)\n",
    "            bins = np.arange((self.min // bin_width) * bin_width,\n",
    "                             (self.max // bin_width) * bin_width,\n",
    "                             bin_width)\n",
    "            freq, bins = np.histogram(data, bins)\n",
    "            self.freq_dict = dict(zip(bins, freq))\n",
    "            self.freq_sum = sum(freq)\n",
    "        else:\n",
    "            self.freq_dict = dict(Counter(data))\n",
    "            self.freq_sum = sum(self.freq_dict.values())\n",
    "\n",
    "    def frequency(self, value):\n",
    "        if self.bin_width:\n",
    "            value = (value // self.bin_width) * self.bin_width\n",
    "        if value in self.freq_dict:\n",
    "            return self.freq_dict[value]\n",
    "        else:\n",
    "            return 0\n",
    "\n",
    "# Khởi tạo dữ liệu\n",
    "genders = [\"male\", \"female\"]\n",
    "persons = []\n",
    "with open(\"D:\\\\Năm 3\\\\242\\\\Nhập môn học máy\\\\THỰC HÀNH\\\\TH3_2274802010480_TranKhanhLinh\\\\chieucao-cannang.txt\") as fh:\n",
    "    for line in fh:\n",
    "        persons.append(line.strip().split())\n",
    "\n",
    "# Trích xuất dữ liệu chiều cao\n",
    "heights = {}\n",
    "for gender in genders:\n",
    "    heights[gender] = [int(x[2]) for x in persons if x[4] == gender]\n",
    "\n",
    "# Tạo các đối tượng Feature\n",
    "fts = {}\n",
    "for gender in genders:\n",
    "    fts[gender] = Feature(heights[gender], name=gender, bin_width=5)\n",
    "    print(gender, fts[gender].freq_dict)\n",
    "\n",
    "# Vẽ biểu đồ tần suất\n",
    "for gender in genders:\n",
    "    frequencies = list(fts[gender].freq_dict.items())\n",
    "    frequencies.sort(key=lambda x: x[1])\n",
    "    X, Y = zip(*frequencies)\n",
    "    color = \"blue\" if gender == \"male\" else \"red\"\n",
    "    bar_width = 4 if gender == \"male\" else 3\n",
    "    plt.bar(X, Y, bar_width, color=color, alpha=0.75, label=gender)\n",
    "\n",
    "plt.legend(loc='upper right')\n",
    "plt.show()\n",
    "\n",
    "# Định nghĩa lớp NBclass\n",
    "class NBclass:\n",
    "    def __init__(self, name, *features):\n",
    "        self.features = features\n",
    "        self.name = name\n",
    "\n",
    "    def probability_value_given_feature(self, feature_value, feature):\n",
    "        if feature.freq_sum == 0:\n",
    "            return 0\n",
    "        else:\n",
    "            return feature.frequency(feature_value) / feature.freq_sum\n",
    "\n",
    "# Tạo các đối tượng NBclass\n",
    "cls = {}\n",
    "for gender in genders:\n",
    "    cls[gender] = NBclass(gender, fts[gender])\n",
    "\n",
    "# Định nghĩa lớp Classifier\n",
    "class Classifier:\n",
    "    def __init__(self, *nbclasses):\n",
    "        self.nbclasses = nbclasses\n",
    "\n",
    "    def prob(self, *d, best_only=True):\n",
    "        nbclasses = self.nbclasses\n",
    "        probability_list = []\n",
    "        for nbclass in nbclasses:\n",
    "            ftrs = nbclass.features\n",
    "            prob = 1\n",
    "            for i in range(len(ftrs)):\n",
    "                prob *= nbclass.probability_value_given_feature(d[i], ftrs[i])\n",
    "            probability_list.append((prob, nbclass.name))\n",
    "        prob_values = [f[0] for f in probability_list]\n",
    "        prob_sum = sum(prob_values)\n",
    "        if prob_sum == 0:\n",
    "            number_classes = len(self.nbclasses)\n",
    "            pl = []\n",
    "            for prob_element in probability_list:\n",
    "                pl.append(((1 / number_classes), prob_element[1]))\n",
    "            probability_list = pl\n",
    "        else:\n",
    "            probability_list = [(p[0] / prob_sum, p[1]) for p in probability_list]\n",
    "        if best_only:\n",
    "            return max(probability_list)\n",
    "        else:\n",
    "            return probability_list\n",
    "\n",
    "# Tạo đối tượng Classifier và thực hiện phân loại\n",
    "c = Classifier(cls[\"male\"], cls[\"female\"])\n",
    "for i in range(130, 220, 5):\n",
    "    print(i, c.prob(i, best_only=False))\n"
   ]
  },
  {
   "cell_type": "code",
   "execution_count": 11,
   "metadata": {},
   "outputs": [
    {
     "name": "stdout",
     "output_type": "stream",
     "text": [
      "[((184.0, 73.0), 'male'), ((149.0, 52.0), 'female'), ((174.0, 63.0), 'female'), ((175.0, 67.0), 'male'), ((183.0, 81.0), 'female'), ((187.0, 60.0), 'male'), ((192.0, 96.0), 'male'), ((204.0, 91.0), 'male'), ((180.0, 66.0), 'male'), ((184.0, 52.0), 'male'), ((174.0, 53.0), 'male'), ((177.0, 91.0), 'male'), ((138.0, 37.0), 'female'), ((200.0, 82.0), 'male'), ((193.0, 79.0), 'male'), ((189.0, 79.0), 'male'), ((145.0, 59.0), 'female'), ((188.0, 53.0), 'male'), ((187.0, 81.0), 'male'), ((187.0, 99.0), 'male'), ((190.0, 81.0), 'male'), ((161.0, 48.0), 'female'), ((179.0, 75.0), 'female'), ((180.0, 67.0), 'male'), ((155.0, 48.0), 'male'), ((201.0, 122.0), 'male'), ((162.0, 62.0), 'female'), ((148.0, 49.0), 'female'), ((171.0, 50.0), 'male'), ((196.0, 86.0), 'female'), ((163.0, 46.0), 'female'), ((159.0, 37.0), 'female'), ((163.0, 53.0), 'male'), ((150.0, 39.0), 'female'), ((170.0, 56.0), 'female'), ((191.0, 55.0), 'male'), ((175.0, 37.0), 'male'), ((169.0, 78.0), 'female'), ((167.0, 59.0), 'female'), ((170.0, 78.0), 'male'), ((178.0, 79.0), 'male'), ((168.0, 71.0), 'female'), ((170.0, 37.0), 'female'), ((167.0, 58.0), 'female'), ((152.0, 43.0), 'female'), ((191.0, 81.0), 'male'), ((155.0, 48.0), 'female'), ((176.0, 61.0), 'male'), ((151.0, 41.0), 'female'), ((166.0, 59.0), 'female'), ((168.0, 46.0), 'male'), ((165.0, 65.0), 'female'), ((169.0, 67.0), 'male'), ((158.0, 43.0), 'female'), ((173.0, 61.0), 'male'), ((180.0, 74.0), 'male'), ((212.0, 59.0), 'male'), ((152.0, 62.0), 'female'), ((189.0, 67.0), 'male'), ((159.0, 56.0), 'female'), ((163.0, 58.0), 'female'), ((174.0, 45.0), 'female'), ((174.0, 69.0), 'male'), ((167.0, 47.0), 'male'), ((131.0, 37.0), 'female'), ((154.0, 74.0), 'female'), ((159.0, 59.0), 'female'), ((159.0, 58.0), 'female'), ((177.0, 83.0), 'female'), ((193.0, 96.0), 'male'), ((180.0, 83.0), 'female'), ((164.0, 54.0), 'male'), ((164.0, 64.0), 'female'), ((171.0, 52.0), 'male'), ((163.0, 41.0), 'female'), ((165.0, 30.0), 'male'), ((161.0, 61.0), 'female'), ((198.0, 75.0), 'male'), ((183.0, 70.0), 'female'), ((185.0, 71.0), 'male'), ((175.0, 58.0), 'male'), ((195.0, 89.0), 'male'), ((170.0, 66.0), 'female'), ((167.0, 61.0), 'female'), ((166.0, 65.0), 'female'), ((180.0, 88.0), 'female'), ((164.0, 55.0), 'male'), ((161.0, 53.0), 'female'), ((187.0, 76.0), 'male'), ((170.0, 63.0), 'female'), ((192.0, 101.0), 'male'), ((175.0, 56.0), 'male'), ((190.0, 100.0), 'male'), ((164.0, 63.0), 'male'), ((172.0, 61.0), 'female'), ((168.0, 69.0), 'female'), ((156.0, 51.0), 'female'), ((167.0, 40.0), 'female'), ((161.0, 18.0), 'male'), ((167.0, 56.0), 'female')]\n"
     ]
    }
   ],
   "source": [
    "#Câu 5\n",
    "import numpy as np\n",
    "def prepare_person_dataset(fname):\n",
    "    genders = [\"male\", \"female\"]\n",
    "    persons = []\n",
    "    with open(fname) as fh:\n",
    "        for line in fh:\n",
    "            persons.append(line.strip().split())\n",
    "    firstnames = []\n",
    "    dataset = [] # weight and height\n",
    "    for person in persons:\n",
    "        firstnames.append( (person[0], person[4]) )\n",
    "        height_weight = (float(person[2]), float(person[3]))\n",
    "        dataset.append( (height_weight, person[4]))\n",
    "    return dataset\n",
    "learnset = prepare_person_dataset(\"D:\\\\Năm 3\\\\242\\\\Nhập môn học máy\\\\THỰC HÀNH\\\\TH3_2274802010480_TranKhanhLinh\\\\chieucao-cannang.txt\")\n",
    "print(learnset)"
   ]
  }
 ],
 "metadata": {
  "kernelspec": {
   "display_name": "Python 3",
   "language": "python",
   "name": "python3"
  },
  "language_info": {
   "codemirror_mode": {
    "name": "ipython",
    "version": 3
   },
   "file_extension": ".py",
   "mimetype": "text/x-python",
   "name": "python",
   "nbconvert_exporter": "python",
   "pygments_lexer": "ipython3",
   "version": "3.12.4"
  }
 },
 "nbformat": 4,
 "nbformat_minor": 2
}
